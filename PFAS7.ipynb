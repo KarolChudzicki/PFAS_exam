{
 "cells": [
  {
   "cell_type": "markdown",
   "metadata": {},
   "source": [
    "# Histogram filtering\n",
    "The Histogram Filter predicts the next steps based on the knowledge it has gained from previous steps, but it's more than just a prediction. It’s used for state estimation in uncertain environments."
   ]
  },
  {
   "cell_type": "code",
   "execution_count": 7,
   "metadata": {},
   "outputs": [
    {
     "name": "stdout",
     "output_type": "stream",
     "text": [
      "[0.11111111 0.33333333 0.33333333 0.11111111 0.11111111]\n"
     ]
    },
    {
     "data": {
      "text/plain": [
       "<BarContainer object of 5 artists>"
      ]
     },
     "execution_count": 7,
     "metadata": {},
     "output_type": "execute_result"
    },
    {
     "data": {
      "image/png": "[encoded data removed]",
      "text/plain": [
       "<Figure size 640x480 with 1 Axes>"
      ]
     },
     "metadata": {},
     "output_type": "display_data"
    }
   ],
   "source": [
    "from math import *\n",
    "import numpy as np\n",
    "import matplotlib.pyplot as plt\n",
    "from scipy import ndimage, signal\n",
    "\n",
    "no_of_blocks = 5\n",
    "prb = 1/5\n",
    "\n",
    "p = [prb, prb, prb, prb, prb]\n",
    "\n",
    "plt.bar(range(no_of_blocks), p)\n",
    "\n",
    "no_of_blocks = 5\n",
    "prb = 1/5\n",
    "p = [prb, prb, prb, prb, prb]\n",
    "\n",
    "world = ['green', 'red', 'red', 'green', 'green']\n",
    "z = 'red' # Measurement\n",
    "pHit = 0.6\n",
    "pMiss = 0.2\n",
    "\n",
    "def sense(p,z):\n",
    "    q = []\n",
    "    for i in range(len(world)):\n",
    "        hit = (z == world[i]) # True if measurement matches this part of the world, false if not.\n",
    "        q.append(p[i]*(hit * pHit + (1- hit) * pMiss))\n",
    "        \n",
    "    q = np.array(q)/sum(q) # Divide the probability with the sum of all probabilities, to make it add up to 1.\n",
    "    return q\n",
    "\n",
    "\n",
    "q = sense(p,z)\n",
    "print(q)\n",
    "\n",
    "move_uncertainty=[0.1 , 0.8, 0.1]\n",
    "\n",
    "def move(p, U, move_uncertainty):\n",
    "    q=np.roll(p,U)\n",
    "    q=ndimage.convolve1d(q,move_uncertainty,mode='wrap')\n",
    "    return q\n",
    "\n",
    "q = move(q, 2, move_uncertainty)\n",
    "plt.bar(range(no_of_blocks), q)\n",
    "\n",
    "for i in range(10):\n",
    "    q = move(q, 2, move_uncertainty)\n",
    "    \n",
    "plt.bar(range(no_of_blocks), q)\n",
    "\n",
    "\n"
   ]
  },
  {
   "cell_type": "code",
   "execution_count": 11,
   "metadata": {},
   "outputs": [
    {
     "name": "stdout",
     "output_type": "stream",
     "text": [
      "5\n"
     ]
    },
    {
     "name": "stderr",
     "output_type": "stream",
     "text": [
      "C:\\Users\\oem\\AppData\\Local\\Temp\\ipykernel_24100\\3874650996.py:24: DeprecationWarning: Please import `convolve1d` from the `scipy.ndimage` namespace; the `scipy.ndimage.filters` namespace is deprecated and will be removed in SciPy 2.0.0.\n",
      "  q=ndimage.filters.convolve1d(q,move_uncertainty,mode='wrap')\n"
     ]
    },
    {
     "data": {
      "image/png": "[encoded data removed]",
      "text/plain": [
       "<Figure size 640x480 with 1 Axes>"
      ]
     },
     "metadata": {},
     "output_type": "display_data"
    }
   ],
   "source": [
    "# We define the world, uncertainties, etc. as before.\n",
    "no_of_blocks = 5 # World size\n",
    "prb = 1/5 # Initial probability that the robot is in one of the positions\n",
    "p = [prb, prb, prb, prb, prb] # Probability vector\n",
    "world = ['green', 'red', 'red', 'green', 'green'] # Actual state of the world\n",
    "measurements=['red','green'] # First measure red then green\n",
    "phit=0.6 # Probability of correct detection of the true color of the block\n",
    "pmiss=0.2 # Probability that the robot gives false reading\n",
    "movements =[1,1] # One step to the right twice\n",
    "move_uncertainty=[0.1 , 0.8, 0.1]\n",
    "\n",
    "def sense(p, Z):\n",
    "    q=[]\n",
    "    for i in range(len(p)):\n",
    "        hit = (Z == world[i]) # For each block checks if the sensor reading matches the actual color of the block\n",
    "        # hit = 0 means that it missed, hit = 1 means that it is correct\n",
    "        q.append(p[i]*(hit * phit + (1- hit) * pmiss))\n",
    "\n",
    "    q = np.array(q)/sum(q)\n",
    "    return q\n",
    "\n",
    "def move(p, U, move_uncertainty):\n",
    "    q=np.roll(p,U)\n",
    "    q=ndimage.filters.convolve1d(q,move_uncertainty,mode='wrap')\n",
    "    return q\n",
    "\n",
    "# We make a loop where we measure and move\n",
    "for i in range(len(movements)):\n",
    "    p=sense(p,measurements[i])\n",
    "    p = move(p, movements[i], move_uncertainty)\n",
    "    \n",
    "plt.bar(range(no_of_blocks),p)\n",
    "\n",
    "print(np.size(q))"
   ]
  },
  {
   "cell_type": "markdown",
   "metadata": {},
   "source": [
    "# Exercise 1\n",
    "We will now extent the histogram plot to work in 2D. You are given the world map and the move function below. We can now move up, down, left and right in the world. We can plot the map with the probabilities by using plt.imshow.\n",
    "Insert a sense function that will work in 2D, and loop through the measurements and movements, while showing the probabilities using plt.imshow. You will also need to insert a 2D version of the move_uncertainty."
   ]
  },
  {
   "cell_type": "code",
   "execution_count": null,
   "metadata": {},
   "outputs": [],
   "source": [
    "no_of_blocks = 20\n",
    "prb = 1/20\n",
    "\n",
    "# The initial probabilities\n",
    "p=[[prb, prb, prb, prb, prb],\n",
    "   [prb, prb, prb, prb, prb],\n",
    "   [prb, prb, prb, prb, prb],\n",
    "   [prb, prb, prb, prb, prb]]\n",
    "\n",
    "# The world map\n",
    "world = [['red', 'green', 'green', 'red', 'red'],\n",
    "         ['red', 'red', 'green', 'red', 'red'],\n",
    "         ['red', 'red', 'green', 'green', 'red'],\n",
    "         ['red', 'red', 'red', 'red', 'red']]\n",
    "\n",
    "measurements=['red','green', 'green', 'green']\n",
    "phit=0.6\n",
    "pmiss=0.2\n",
    "movements =['up', 'up', 'up', 'left']\n",
    "\n",
    "# Define move_uncertainty\n",
    "move_uncertainty = np.array([[0.1, 0.1, 0.1],\n",
    "                             [0.1, 0.4, 0.1],\n",
    "                             [0.1, 0.1, 0.1]])\n",
    "\n",
    "\n",
    "# Normalize a 2D list\n",
    "def normalize(matrix):\n",
    "    total = sum(sum(row) for row in matrix)\n",
    "    return [[val / total for val in row] for row in matrix]\n",
    "\n",
    "\n",
    "# Sense function\n",
    "def sense(p, z):\n",
    "    q = []\n",
    "    for i in range(len(p)):\n",
    "        row = []\n",
    "        for j in range(len(p[0])):\n",
    "            hit = (z == world[i][j])\n",
    "            row.append(p[i][j] * (hit * phit + (1 - hit) * pmiss))\n",
    "        q.append(row)\n",
    "    return normalize(q)\n",
    "\n",
    "\n",
    "# Move function\n",
    "def move(p, u, move_uncertainty):\n",
    "    rows, cols = len(p), len(p[0])\n",
    "    q = [[0] * cols for _ in range(rows)]\n",
    "    \n",
    "    # Rolling based on movement\n",
    "    if u == 'up':\n",
    "        rolled_p = p[-1:] + p[:-1]\n",
    "    elif u == 'down':\n",
    "        rolled_p = p[1:] + p[:1]\n",
    "    elif u == 'left':\n",
    "        rolled_p = [row[1:] + row[:1] for row in p]\n",
    "    elif u == 'right':\n",
    "        rolled_p = [row[-1:] + row[:-1] for row in p]\n",
    "    else:\n",
    "        rolled_p = p\n",
    "    \n",
    "    # Convolve with move uncertainty\n",
    "    for i in range(rows):\n",
    "        for j in range(cols):\n",
    "            for di, drow in enumerate(move_uncertainty):\n",
    "                for dj, val in enumerate(drow):\n",
    "                    ni = (i + di - 1) % rows  # Wrap index for rows\n",
    "                    nj = (j + dj - 1) % cols  # Wrap index for columns\n",
    "                    q[i][j] += rolled_p[ni][nj] * val\n",
    "    return normalize(q)\n",
    "\n",
    "\n",
    "# Visualization\n",
    "plt.figure(figsize=(10, 10))\n",
    "for i in range(len(movements)):\n",
    "    # Update probabilities based on measurement\n",
    "    p = sense(p, measurements[i])\n",
    "    \n",
    "    # Update probabilities based on movement\n",
    "    p = move(p, movements[i], move_uncertainty)\n",
    "    \n",
    "    # Plot the current probability distribution\n",
    "    plt.subplot(2, 2, i + 1)\n",
    "    plt.imshow(p, cmap='hot', interpolation='nearest')\n",
    "    plt.title(f\"Step {i + 1}\")\n",
    "    plt.colorbar()\n",
    "\n",
    "plt.tight_layout()\n",
    "plt.show()"
   ]
  },
  {
   "cell_type": "markdown",
   "metadata": {},
   "source": [
    "# Kalman filter\n",
    "Smart guesser that helps estimate the true value of something, when we can only take noisy or uncertain measurements. It works by using the key ideas: prediction - guess where something should be based on it's motion, correction - adjust the guess using noisy measurements.\n",
    "\n",
    "### Gaussians\n",
    "We use the because they tell us the most likely value (peak, mean u) and how confident we are in the guess (width, variance σ2).\n",
    "\n",
    "### Starting Point:\n",
    "- Car's position: u_old = 10 meters, sigma_old^2 = 2.\n",
    "\n",
    "### Prediction:\n",
    "- The car moves forward by 5 meters with some uncertainty: sigma_motion^2 = 3.\n",
    "- Predicted position: u_pred = 10 + 5 = 15,  \n",
    "  sigma_pred^2 = 2 + 3 = 5.\n",
    "\n",
    "### Measurement:\n",
    "- A sensor says the car is at u_meas = 14 meters, but it's noisy: sigma_meas^2 = 1.\n",
    "\n",
    "### Correction:\n",
    "- Combine prediction and measurement:  \n",
    "μ_new = (1 * 15 + 5 * 14) / (1 + 5) = 14.17  \n",
    "σ_new^2 = (1 * 5) / (1 + 5) = 0.83\n"
   ]
  },
  {
   "cell_type": "code",
   "execution_count": 17,
   "metadata": {},
   "outputs": [
    {
     "name": "stdout",
     "output_type": "stream",
     "text": [
      "19.84158415841584 15.384615384615383\n"
     ]
    },
    {
     "data": {
      "image/png": "[encoded data removed]",
      "text/plain": [
       "<Figure size 640x480 with 1 Axes>"
      ]
     },
     "metadata": {},
     "output_type": "display_data"
    }
   ],
   "source": [
    "import numpy as np\n",
    "import matplotlib.pyplot as plt\n",
    "\n",
    "def f(u, sigma2, x):\n",
    "    # Gaussian distribution formula\n",
    "    return 1/np.sqrt(2*np.pi*sigma2) * np.exp(-0.5* ((x-u)**2/sigma2))\n",
    "\n",
    "u = 4        # Mean for the first Gaussian\n",
    "v = 20       # Mean for the second Gaussian\n",
    "sigma1 = 40  # Variance for the first Gaussian\n",
    "sigma2 = 4       # Variance for the second Gaussian\n",
    "\n",
    "\n",
    "uprim = (u * sigma2**2 + v * sigma1**2) / (sigma2 ** 2 + sigma1 ** 2)\n",
    "\n",
    "sigma_prim = 1 / (1/u**2 + 1/v**2)\n",
    "print(uprim, sigma_prim)\n",
    "\n",
    "for x in np.arange(-10, 30, 0.1):\n",
    "    plt.plot(x, f(u, sigma1, x),'.r')\n",
    "    plt.plot(x, f(v, sigma2, x),'.g')\n",
    "    plt.plot(x, f(uprim, sigma_prim, x),'.b')"
   ]
  }
 ],
 "metadata": {
  "kernelspec": {
   "display_name": "Python 3",
   "language": "python",
   "name": "python3"
  },
  "language_info": {
   "codemirror_mode": {
    "name": "ipython",
    "version": 3
   },
   "file_extension": ".py",
   "mimetype": "text/x-python",
   "name": "python",
   "nbconvert_exporter": "python",
   "pygments_lexer": "ipython3",
   "version": "3.9.4"
  }
 },
 "nbformat": 4,
 "nbformat_minor": 2
}
